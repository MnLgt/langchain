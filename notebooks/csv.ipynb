{
 "cells": [
  {
   "cell_type": "markdown",
   "id": "7094e328",
   "metadata": {},
   "source": [
    "# CSV Agent\n",
    "\n",
    "This notebook shows how to use agents to interact with a csv. It is mostly optimized for question answering.\n",
    "\n",
    "**NOTE: this agent calls the Pandas DataFrame agent under the hood, which in turn calls the Python agent, which executes LLM generated Python code - this can be bad if the LLM generated Python code is harmful. Use cautiously.**\n",
    "\n"
   ]
  },
  {
   "cell_type": "code",
   "execution_count": 27,
   "id": "827982c7",
   "metadata": {},
   "outputs": [],
   "source": [
    "from langchain.agents import create_csv_agent"
   ]
  },
  {
   "cell_type": "code",
   "execution_count": 28,
   "id": "caae0bec",
   "metadata": {},
   "outputs": [],
   "source": [
    "from langchain.llms import OpenAI"
   ]
  },
  {
   "cell_type": "code",
   "execution_count": null,
   "id": "e7173090",
   "metadata": {},
   "outputs": [],
   "source": []
  },
  {
   "cell_type": "code",
   "execution_count": 29,
   "id": "12f30a21",
   "metadata": {},
   "outputs": [],
   "source": [
    "import re \n",
    "import pandas as pd \n",
    "def convert_transcript_to_csv(filepath):\n",
    "\n",
    "    with open(filepath, 'r') as f:\n",
    "        text = f.read()\n",
    "\n",
    "    times = []\n",
    "    words = []\n",
    "    for row in text.split('\\n'):\n",
    "        if bool(re.search('^\\d',row)):\n",
    "            times.append(row)\n",
    "        else:\n",
    "            words.append(row)\n",
    "\n",
    "    df = pd.DataFrame([times,words]).T\n",
    "    df.columns = ['timestamp','dialogue']\n",
    "    dest_filepath = filepath.replace('.txt','.csv')\n",
    "    df.to_csv(dest_filepath, index=False)\n",
    "    return dest_filepath"
   ]
  },
  {
   "cell_type": "code",
   "execution_count": 30,
   "id": "ac4c94f6",
   "metadata": {},
   "outputs": [
    {
     "data": {
      "text/plain": [
       "'../datasets/steven_king.csv'"
      ]
     },
     "execution_count": 30,
     "metadata": {},
     "output_type": "execute_result"
    }
   ],
   "source": [
    "csv_filepath = convert_transcript_to_csv('../datasets/steven_king.txt')\n",
    "csv_filepath"
   ]
  },
  {
   "cell_type": "code",
   "execution_count": 31,
   "id": "16c4dc59",
   "metadata": {},
   "outputs": [],
   "source": [
    "agent = create_csv_agent(OpenAI(temperature=0), csv_filepath, verbose=True)"
   ]
  },
  {
   "cell_type": "code",
   "execution_count": 32,
   "id": "46b9489d",
   "metadata": {},
   "outputs": [
    {
     "name": "stdout",
     "output_type": "stream",
     "text": [
      "\n",
      "\n",
      "\u001b[1m> Entering new AgentExecutor chain...\u001b[0m\n",
      "\u001b[32;1m\u001b[1;3mThought: I need to look at the dialogue\n",
      "Action: python_repl_ast\n",
      "Action Input: df['dialogue'].summarize()\u001b[0m\n",
      "Observation: \u001b[36;1m\u001b[1;3m'Series' object has no attribute 'summarize'\u001b[0m\n",
      "Thought:\u001b[32;1m\u001b[1;3m I need to look at the dialogue in more detail\n",
      "Action: python_repl_ast\n",
      "Action Input: df['dialogue'].head()\u001b[0m\n",
      "Observation: \u001b[36;1m\u001b[1;3m0    good afternoon i'm tom putnam director of the ...\n",
      "1    on behalf of tom mcnaught executive director o...\n",
      "2    foundation colleagues i thank you all for comi...\n",
      "3    acknowledge the generous underwriters of the k...\n",
      "4    boston capital the lowell institute raytheon t...\n",
      "Name: dialogue, dtype: object\u001b[0m\n",
      "Thought:\u001b[32;1m\u001b[1;3m I now know the conversation is about thanking people for coming and acknowledging the generous underwriters\n",
      "Final Answer: The conversation is about thanking people for coming and acknowledging the generous underwriters.\u001b[0m\n",
      "\n",
      "\u001b[1m> Finished chain.\u001b[0m\n"
     ]
    },
    {
     "data": {
      "text/plain": [
       "'The conversation is about thanking people for coming and acknowledging the generous underwriters.'"
      ]
     },
     "execution_count": 32,
     "metadata": {},
     "output_type": "execute_result"
    }
   ],
   "source": [
    "agent.run(\"Summarise the conversation\")"
   ]
  },
  {
   "cell_type": "code",
   "execution_count": 35,
   "id": "a96309be",
   "metadata": {},
   "outputs": [
    {
     "name": "stdout",
     "output_type": "stream",
     "text": [
      "\n",
      "\n",
      "\u001b[1m> Entering new AgentExecutor chain...\u001b[0m\n",
      "\u001b[32;1m\u001b[1;3mThought: I need to look at the dialogue to answer this question.\n",
      "Action: python_repl_ast\n",
      "Action Input: df['dialogue'].str.contains('historical novelist')\u001b[0m\n",
      "Observation: \u001b[36;1m\u001b[1;3m0      False\n",
      "1      False\n",
      "2      False\n",
      "3      False\n",
      "4      False\n",
      "       ...  \n",
      "581    False\n",
      "582    False\n",
      "583    False\n",
      "584    False\n",
      "585    False\n",
      "Name: dialogue, Length: 586, dtype: bool\u001b[0m\n",
      "Thought:\u001b[32;1m\u001b[1;3m The result is False for all rows, so the answer is no.\n",
      "Final Answer: No, he is not a historical novelist.\u001b[0m\n",
      "\n",
      "\u001b[1m> Finished chain.\u001b[0m\n"
     ]
    },
    {
     "data": {
      "text/plain": [
       "'No, he is not a historical novelist.'"
      ]
     },
     "execution_count": 35,
     "metadata": {},
     "output_type": "execute_result"
    }
   ],
   "source": [
    "agent.run(\"Is he a historical novelist?\")"
   ]
  },
  {
   "cell_type": "code",
   "execution_count": 34,
   "id": "964a09f7",
   "metadata": {},
   "outputs": [],
   "source": [
    "# agent.run(\"What does he say we should avoid in our relations with Russia?\")"
   ]
  },
  {
   "cell_type": "code",
   "execution_count": null,
   "id": "bf22355b",
   "metadata": {},
   "outputs": [],
   "source": []
  }
 ],
 "metadata": {
  "kernelspec": {
   "display_name": "Python 3 (ipykernel)",
   "language": "python",
   "name": "python3"
  },
  "language_info": {
   "codemirror_mode": {
    "name": "ipython",
    "version": 3
   },
   "file_extension": ".py",
   "mimetype": "text/x-python",
   "name": "python",
   "nbconvert_exporter": "python",
   "pygments_lexer": "ipython3",
   "version": "3.10.6"
  }
 },
 "nbformat": 4,
 "nbformat_minor": 5
}
